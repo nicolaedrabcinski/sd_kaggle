{
 "cells": [
  {
   "cell_type": "code",
   "execution_count": 3,
   "id": "75498b28",
   "metadata": {},
   "outputs": [
    {
     "name": "stdout",
     "output_type": "stream",
     "text": [
      "Baseline (predict 0): R² = -0.0046\n",
      "Baseline (predict mean): R² = -0.0027\n",
      "\n",
      "Your model must beat these to be useful\n"
     ]
    }
   ],
   "source": [
    "# simple_baseline.py\n",
    "import pandas as pd\n",
    "import numpy as np\n",
    "from sklearn.metrics import r2_score\n",
    "\n",
    "train = pd.read_csv('../data/raw/train.csv')\n",
    "labels = pd.read_csv('../data/raw/train_labels.csv')\n",
    "\n",
    "df = train.merge(labels, on='date_id')\n",
    "target_cols = [c for c in labels.columns if c.startswith('target_')]\n",
    "\n",
    "# Forward fill\n",
    "df[target_cols] = df[target_cols].ffill()\n",
    "df = df.dropna(subset=target_cols)\n",
    "\n",
    "# Split 70/30\n",
    "split = int(len(df) * 0.7)\n",
    "train_targets = df[target_cols].iloc[:split].values\n",
    "test_targets = df[target_cols].iloc[split:].values\n",
    "\n",
    "# Baseline 1: Predict 0 (no change)\n",
    "baseline_zero = np.zeros_like(test_targets)\n",
    "r2_zero = r2_score(test_targets, baseline_zero)\n",
    "\n",
    "# Baseline 2: Predict train mean\n",
    "baseline_mean = np.tile(train_targets.mean(axis=0), (len(test_targets), 1))\n",
    "r2_mean = r2_score(test_targets, baseline_mean)\n",
    "\n",
    "print(f\"Baseline (predict 0): R² = {r2_zero:.4f}\")\n",
    "print(f\"Baseline (predict mean): R² = {r2_mean:.4f}\")\n",
    "print(f\"\\nYour model must beat these to be useful\")"
   ]
  },
  {
   "cell_type": "code",
   "execution_count": null,
   "id": "d4af772e",
   "metadata": {},
   "outputs": [],
   "source": []
  }
 ],
 "metadata": {
  "kernelspec": {
   "display_name": "sd_kaggle",
   "language": "python",
   "name": "python3"
  },
  "language_info": {
   "codemirror_mode": {
    "name": "ipython",
    "version": 3
   },
   "file_extension": ".py",
   "mimetype": "text/x-python",
   "name": "python",
   "nbconvert_exporter": "python",
   "pygments_lexer": "ipython3",
   "version": "3.11.5"
  }
 },
 "nbformat": 4,
 "nbformat_minor": 5
}
